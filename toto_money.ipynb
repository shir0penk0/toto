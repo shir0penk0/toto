{
 "cells": [
  {
   "cell_type": "markdown",
   "metadata": {},
   "source": [
    "# totoの平均当選金額、当選確率から期待値を計算する\n"
   ]
  },
  {
   "cell_type": "markdown",
   "metadata": {},
   "source": [
    "## WEBスクレイピングによる当選金額データの取得\n",
    "* toto公式サイト（ http://sport-kuji.toto-dream.com/dci/I/IPB/IPB01.do?op=initLotResultLsttoto ）からWEBスクレイピングで当選金額データを取得する\n",
    "* 過去の結果を閲覧できるURLは http://sport-kuji.toto-dream.com/dci/I/IPB/IPB01.do?op=lnkHoldCntLotResultLsttoto&holdCntId={開催回}\n",
    "* {開催回}の部分の数字を変えれば、各回のURLにアクセスすることができる"
   ]
  },
  {
   "cell_type": "markdown",
   "metadata": {},
   "source": [
    "### pandasを使用して対象URLからテーブル要素を取得\n",
    "toto、mini toto-A組、mini toto-B組、totoGOAL3のデータだけを抽出するために、pandasで取得したデータに規則性があるかを調査する"
   ]
  },
  {
   "cell_type": "code",
   "execution_count": 1,
   "metadata": {},
   "outputs": [],
   "source": [
    "import pandas\n",
    "from IPython.core.display import display\n",
    "\n",
    "target_url_sample = 'http://sport-kuji.toto-dream.com/dci/I/IPB/IPB01.do?op=lnkHoldCntLotResultLsttoto&holdCntId=0208'\n",
    "fetched_dataframes_sample = pandas.io.html.read_html(target_url_sample)"
   ]
  },
  {
   "cell_type": "code",
   "execution_count": 2,
   "metadata": {
    "scrolled": true
   },
   "outputs": [
    {
     "data": {
      "text/html": [
       "<div>\n",
       "<style scoped>\n",
       "    .dataframe tbody tr th:only-of-type {\n",
       "        vertical-align: middle;\n",
       "    }\n",
       "\n",
       "    .dataframe tbody tr th {\n",
       "        vertical-align: top;\n",
       "    }\n",
       "\n",
       "    .dataframe thead th {\n",
       "        text-align: right;\n",
       "    }\n",
       "</style>\n",
       "<table border=\"1\" class=\"dataframe\">\n",
       "  <thead>\n",
       "    <tr style=\"text-align: right;\">\n",
       "      <th></th>\n",
       "      <th>0</th>\n",
       "      <th>1</th>\n",
       "      <th>2</th>\n",
       "    </tr>\n",
       "  </thead>\n",
       "  <tbody>\n",
       "    <tr>\n",
       "      <th>0</th>\n",
       "      <td>第208回</td>\n",
       "      <td>1等</td>\n",
       "      <td>2等</td>\n",
       "    </tr>\n",
       "    <tr>\n",
       "      <th>1</th>\n",
       "      <td>当せん金</td>\n",
       "      <td>625,175円</td>\n",
       "      <td>9,230円</td>\n",
       "    </tr>\n",
       "    <tr>\n",
       "      <th>2</th>\n",
       "      <td>当せん口数</td>\n",
       "      <td>140口</td>\n",
       "      <td>2,370口</td>\n",
       "    </tr>\n",
       "    <tr>\n",
       "      <th>3</th>\n",
       "      <td>次回への繰越金</td>\n",
       "      <td>0円</td>\n",
       "      <td>0円</td>\n",
       "    </tr>\n",
       "  </tbody>\n",
       "</table>\n",
       "</div>"
      ],
      "text/plain": [
       "         0         1       2\n",
       "0    第208回        1等      2等\n",
       "1     当せん金  625,175円  9,230円\n",
       "2    当せん口数      140口  2,370口\n",
       "3  次回への繰越金        0円      0円"
      ]
     },
     "metadata": {},
     "output_type": "display_data"
    }
   ],
   "source": [
    "display(fetched_dataframes_sample[3])"
   ]
  },
  {
   "cell_type": "code",
   "execution_count": 3,
   "metadata": {},
   "outputs": [
    {
     "data": {
      "text/html": [
       "<div>\n",
       "<style scoped>\n",
       "    .dataframe tbody tr th:only-of-type {\n",
       "        vertical-align: middle;\n",
       "    }\n",
       "\n",
       "    .dataframe tbody tr th {\n",
       "        vertical-align: top;\n",
       "    }\n",
       "\n",
       "    .dataframe thead th {\n",
       "        text-align: right;\n",
       "    }\n",
       "</style>\n",
       "<table border=\"1\" class=\"dataframe\">\n",
       "  <thead>\n",
       "    <tr style=\"text-align: right;\">\n",
       "      <th></th>\n",
       "      <th>0</th>\n",
       "      <th>1</th>\n",
       "    </tr>\n",
       "  </thead>\n",
       "  <tbody>\n",
       "    <tr>\n",
       "      <th>0</th>\n",
       "      <td>第208回</td>\n",
       "      <td>1等</td>\n",
       "    </tr>\n",
       "    <tr>\n",
       "      <th>1</th>\n",
       "      <td>当せん金</td>\n",
       "      <td>1,196円</td>\n",
       "    </tr>\n",
       "    <tr>\n",
       "      <th>2</th>\n",
       "      <td>当せん口数</td>\n",
       "      <td>15,903口</td>\n",
       "    </tr>\n",
       "    <tr>\n",
       "      <th>3</th>\n",
       "      <td>次回への繰越金</td>\n",
       "      <td>0円</td>\n",
       "    </tr>\n",
       "  </tbody>\n",
       "</table>\n",
       "</div>"
      ],
      "text/plain": [
       "         0        1\n",
       "0    第208回       1等\n",
       "1     当せん金   1,196円\n",
       "2    当せん口数  15,903口\n",
       "3  次回への繰越金       0円"
      ]
     },
     "metadata": {},
     "output_type": "display_data"
    }
   ],
   "source": [
    "display(fetched_dataframes_sample[9])"
   ]
  },
  {
   "cell_type": "code",
   "execution_count": 4,
   "metadata": {},
   "outputs": [
    {
     "data": {
      "text/html": [
       "<div>\n",
       "<style scoped>\n",
       "    .dataframe tbody tr th:only-of-type {\n",
       "        vertical-align: middle;\n",
       "    }\n",
       "\n",
       "    .dataframe tbody tr th {\n",
       "        vertical-align: top;\n",
       "    }\n",
       "\n",
       "    .dataframe thead th {\n",
       "        text-align: right;\n",
       "    }\n",
       "</style>\n",
       "<table border=\"1\" class=\"dataframe\">\n",
       "  <thead>\n",
       "    <tr style=\"text-align: right;\">\n",
       "      <th></th>\n",
       "      <th>0</th>\n",
       "      <th>1</th>\n",
       "    </tr>\n",
       "  </thead>\n",
       "  <tbody>\n",
       "    <tr>\n",
       "      <th>0</th>\n",
       "      <td>第208回</td>\n",
       "      <td>1等</td>\n",
       "    </tr>\n",
       "    <tr>\n",
       "      <th>1</th>\n",
       "      <td>当せん金</td>\n",
       "      <td>4,298円</td>\n",
       "    </tr>\n",
       "    <tr>\n",
       "      <th>2</th>\n",
       "      <td>当せん口数</td>\n",
       "      <td>3,536口</td>\n",
       "    </tr>\n",
       "    <tr>\n",
       "      <th>3</th>\n",
       "      <td>次回への繰越金</td>\n",
       "      <td>0円</td>\n",
       "    </tr>\n",
       "  </tbody>\n",
       "</table>\n",
       "</div>"
      ],
      "text/plain": [
       "         0       1\n",
       "0    第208回      1等\n",
       "1     当せん金  4,298円\n",
       "2    当せん口数  3,536口\n",
       "3  次回への繰越金      0円"
      ]
     },
     "metadata": {},
     "output_type": "display_data"
    }
   ],
   "source": [
    "display(fetched_dataframes_sample[15])"
   ]
  },
  {
   "cell_type": "code",
   "execution_count": 5,
   "metadata": {},
   "outputs": [
    {
     "data": {
      "text/html": [
       "<div>\n",
       "<style scoped>\n",
       "    .dataframe tbody tr th:only-of-type {\n",
       "        vertical-align: middle;\n",
       "    }\n",
       "\n",
       "    .dataframe tbody tr th {\n",
       "        vertical-align: top;\n",
       "    }\n",
       "\n",
       "    .dataframe thead th {\n",
       "        text-align: right;\n",
       "    }\n",
       "</style>\n",
       "<table border=\"1\" class=\"dataframe\">\n",
       "  <thead>\n",
       "    <tr style=\"text-align: right;\">\n",
       "      <th></th>\n",
       "      <th>0</th>\n",
       "      <th>1</th>\n",
       "      <th>2</th>\n",
       "    </tr>\n",
       "  </thead>\n",
       "  <tbody>\n",
       "    <tr>\n",
       "      <th>0</th>\n",
       "      <td>第208回</td>\n",
       "      <td>1等</td>\n",
       "      <td>2等</td>\n",
       "    </tr>\n",
       "    <tr>\n",
       "      <th>1</th>\n",
       "      <td>当せん金</td>\n",
       "      <td>100,798円</td>\n",
       "      <td>3,320円</td>\n",
       "    </tr>\n",
       "    <tr>\n",
       "      <th>2</th>\n",
       "      <td>当せん口数</td>\n",
       "      <td>92口</td>\n",
       "      <td>1,862口</td>\n",
       "    </tr>\n",
       "    <tr>\n",
       "      <th>3</th>\n",
       "      <td>次回への繰越金</td>\n",
       "      <td>0円</td>\n",
       "      <td>0円</td>\n",
       "    </tr>\n",
       "  </tbody>\n",
       "</table>\n",
       "</div>"
      ],
      "text/plain": [
       "         0         1       2\n",
       "0    第208回        1等      2等\n",
       "1     当せん金  100,798円  3,320円\n",
       "2    当せん口数       92口  1,862口\n",
       "3  次回への繰越金        0円      0円"
      ]
     },
     "metadata": {},
     "output_type": "display_data"
    }
   ],
   "source": [
    "display(fetched_dataframes_sample[21])"
   ]
  },
  {
   "cell_type": "markdown",
   "metadata": {},
   "source": [
    "pandasで取得したdataframeの下記要素番号にtoto、mini toto-A組、mini toto-B組、totoGOAL3の当選結果が格納されることがわかる。\n",
    "\n",
    "|  要素番号 |  格納データ  |\n",
    "| ---- | ---- |\n",
    "| 3 | toto |\n",
    "| 9 | mini toto-A組 |\n",
    "| 15 | mini toto-B組 |\n",
    "| 21 | totoGOAL3 |\n",
    "\n",
    "しかし、毎回この4種類の宝くじが開催されるとは限らない。\n",
    "\n",
    "totoのない回はダイレクトに要素番号を指定すると期待通りのデータが取得できない。\n",
    "\n",
    "よって下記の処理を行う。\n",
    "\n",
    "1. 全てのdataframe要素について、行番号1、列番号0の文字列が\"当せん金\"かどうかを判定する\n",
    "1. 行番号1、列番号0が\"当せん金\"の要素は当選結果のdataframeとみなす\n",
    "1. 行番号1、列番号0が\"当せん金\"の要素番号から-2した要素番号の行番号0、列番号0を取得する\n",
    "1. 取得した文字列に、特定の文字列が含まれているか判定する\n",
    "    - 取得した文字列に\"回 toto　くじ結果\"が含まれて入れば処理1で取得した当選結果はtotoとみなす\n",
    "    - 取得した文字列に\"mini toto-A組\"が含まれて入れば処理1で取得した当選結果はmini toto-A組とみなす\n",
    "    - 取得した文字列に\"mini toto-B組\"が含まれて入れば処理1で取得した当選結果はmini toto-B組とみなす\n",
    "    - 取得した文字列に\"totoGOAL3\"が含まれて入れば処理1で取得した当選結果はtotoGOAL3とみなす"
   ]
  },
  {
   "cell_type": "code",
   "execution_count": 6,
   "metadata": {},
   "outputs": [],
   "source": [
    "def separateLotteryType(df):\n",
    "    \n",
    "    DfToto = pandas.DataFrame()\n",
    "    DfTotoMiniA = pandas.DataFrame()\n",
    "    DfTotoMiniB = pandas.DataFrame()\n",
    "    DfTotoGoal3 = pandas.DataFrame()\n",
    "    \n",
    "    for index, item in enumerate(df):\n",
    "        if len(item.isnull()) < 2:\n",
    "            continue\n",
    "\n",
    "        if item.iat[1, 0] == '当せん金':\n",
    "            if df[index - 2].iat[0,0].find('回 toto　くじ結果') != -1:\n",
    "                DfToto = item\n",
    "            elif df[index - 2].iat[0,0].find('mini toto-A組') != -1:\n",
    "                DfTotoMiniA = item\n",
    "            elif df[index - 2].iat[0,0].find('mini toto-B組') != -1:\n",
    "                DfTotoMiniB = item\n",
    "            elif df[index - 2].iat[0,0].find('totoGOAL3') != -1:\n",
    "                DfTotoGoal3 = item\n",
    "    \n",
    "    return DfToto, DfTotoMiniA, DfTotoMiniB, DfTotoGoal3"
   ]
  },
  {
   "cell_type": "markdown",
   "metadata": {},
   "source": [
    "2006年の第198回から2018年の第1042回までのデータを取得し、separateLotteryType()をつかってtoto、mini toto-A組、mini toto-B組、totoGOAL3の当選結果に分類する。"
   ]
  },
  {
   "cell_type": "code",
   "execution_count": 7,
   "metadata": {},
   "outputs": [
    {
     "name": "stderr",
     "output_type": "stream",
     "text": [
      "100%|██████████| 845/845 [02:33<00:00,  5.33it/s]\n"
     ]
    }
   ],
   "source": [
    "from tqdm import tqdm\n",
    "\n",
    "# toto、mini toto-A組、mini toto-B組、totoGOAL3の当選結果を格納する配列\n",
    "DfArrToto = []\n",
    "DfArrTotoMiniA = []\n",
    "DfArrTotoMiniB = []\n",
    "DfArrTotoGoal3 = []\n",
    "\n",
    "for lotteryNo in tqdm(range(198,1043)):\n",
    "    if lotteryNo < 1000:\n",
    "        number = '0' + str(lotteryNo)\n",
    "    else:\n",
    "        number = str(lotteryNo)\n",
    "    \n",
    "    target_url = 'http://sport-kuji.toto-dream.com/dci/I/IPB/IPB01.do?op=lnkHoldCntLotResultLsttoto&holdCntId='+ str(number) \n",
    "\n",
    "    fetched_dataframes = pandas.io.html.read_html(target_url)\n",
    "    DfToto, DfTotoMiniA, DfTotoMiniB, DfTotoGoal3 = separateLotteryType(fetched_dataframes)\n",
    "    \n",
    "    if DfToto.empty == False:\n",
    "        DfArrToto.append(DfToto)\n",
    "        \n",
    "    if DfTotoMiniA.empty == False:\n",
    "        DfArrTotoMiniA.append(DfTotoMiniA)\n",
    "        \n",
    "    if DfTotoMiniB.empty == False:\n",
    "        DfArrTotoMiniB.append(DfTotoMiniB)\n",
    "\n",
    "    if DfTotoGoal3.empty == False:\n",
    "        DfArrTotoGoal3.append(DfTotoGoal3)\n",
    "    \n",
    "#   print(target_url)\n"
   ]
  },
  {
   "cell_type": "markdown",
   "metadata": {},
   "source": [
    "## 賞金総合計、開催回数、平均償金額を計算\n",
    "### totoの賞金総合計、開催回数、平均償金額を計算"
   ]
  },
  {
   "cell_type": "code",
   "execution_count": 8,
   "metadata": {},
   "outputs": [
    {
     "name": "stdout",
     "output_type": "stream",
     "text": [
      "1等賞金総合計：14307567772円\n",
      "2等賞金総合計：478922741円\n",
      "開催回数：507回\n",
      "1等平均賞金：28220054.777120315円\n",
      "２等平均賞金：944620.7909270216円\n"
     ]
    }
   ],
   "source": [
    "totoTotalFirstPrize = 0\n",
    "totoTotalSecondPrize = 0\n",
    "totoHeldNumber = len(DfArrToto)\n",
    "\n",
    "for item in DfArrToto:\n",
    "\n",
    "    firstPrize = int(item.iat[1,1].replace(\"円\", \"\").replace(\",\", \"\"))\n",
    "    secondPrize = int(item.iat[1,2].replace(\"円\", \"\").replace(\",\", \"\"))\n",
    "    \n",
    "    totoTotalFirstPrize += firstPrize\n",
    "    totoTotalSecondPrize += secondPrize\n",
    "\n",
    "totoAverageFirstPrize = totoTotalFirstPrize / totoHeldNumber\n",
    "totoAverageSecondPrize = totoTotalSecondPrize / totoHeldNumber\n",
    "\n",
    "print('1等賞金総合計：' + str(totoTotalFirstPrize) + '円')\n",
    "print('2等賞金総合計：' + str(totoTotalSecondPrize) + '円')\n",
    "print('開催回数：' + str(totoHeldNumber) + '回')\n",
    "print('1等平均賞金：' + str(totoAverageFirstPrize) + '円')\n",
    "print('２等平均賞金：' + str(totoAverageSecondPrize) + '円')\n"
   ]
  },
  {
   "cell_type": "markdown",
   "metadata": {},
   "source": [
    "### mini toto-A組の賞金総合計、開催回数、平均償金額を計算"
   ]
  },
  {
   "cell_type": "code",
   "execution_count": 9,
   "metadata": {},
   "outputs": [
    {
     "name": "stdout",
     "output_type": "stream",
     "text": [
      "1等賞金総合計：10353342円\n",
      "開催回数：727回\n",
      "1等平均賞金：14241.18569463549円\n"
     ]
    }
   ],
   "source": [
    "totoMiniATotalPrize = 0\n",
    "totoMiniAHeldNumber = len(DfArrTotoMiniA)\n",
    "\n",
    "for item in DfArrTotoMiniA:\n",
    "\n",
    "    firstPrize = int(item.iat[1,1].replace(\"円\", \"\").replace(\",\", \"\"))\n",
    "    \n",
    "    totoMiniATotalPrize += firstPrize\n",
    "\n",
    "totoMiniAAveragePrize = totoMiniATotalPrize / totoMiniAHeldNumber\n",
    "\n",
    "print('1等賞金総合計：' + str(totoMiniATotalPrize) + '円')\n",
    "print('開催回数：' + str(totoMiniAHeldNumber) + '回')\n",
    "print('1等平均賞金：' + str(totoMiniAAveragePrize) + '円')"
   ]
  },
  {
   "cell_type": "markdown",
   "metadata": {},
   "source": [
    "### mini toto-B組の賞金総合計、開催回数、平均償金額を計算"
   ]
  },
  {
   "cell_type": "code",
   "execution_count": 10,
   "metadata": {},
   "outputs": [
    {
     "name": "stdout",
     "output_type": "stream",
     "text": [
      "1等賞金総合計：9449796円\n",
      "開催回数：598回\n",
      "1等平均賞金：15802.334448160535円\n"
     ]
    }
   ],
   "source": [
    "totoMiniBTotalPrize = 0\n",
    "totoMiniBHeldNumber = len(DfArrTotoMiniB)\n",
    "\n",
    "for item in DfArrTotoMiniB:\n",
    "\n",
    "    firstPrize = int(item.iat[1,1].replace(\"円\", \"\").replace(\",\", \"\"))\n",
    "    \n",
    "    totoMiniBTotalPrize += firstPrize\n",
    "    \n",
    "totoMiniBAveragePrize = totoMiniBTotalPrize / totoMiniBHeldNumber\n",
    "\n",
    "print('1等賞金総合計：' + str(totoMiniBTotalPrize) + '円')\n",
    "print('開催回数：' + str(totoMiniBHeldNumber) + '回')\n",
    "print('1等平均賞金：' + str(totoMiniBAveragePrize) + '円')"
   ]
  },
  {
   "cell_type": "markdown",
   "metadata": {},
   "source": [
    "### totoGOAL3の賞金総合計、開催回数、平均償金額を計算"
   ]
  },
  {
   "cell_type": "code",
   "execution_count": 11,
   "metadata": {},
   "outputs": [
    {
     "name": "stdout",
     "output_type": "stream",
     "text": [
      "1等賞金総合計：131472906円\n",
      "2等賞金総合計：3388720円\n",
      "開催回数：764回\n",
      "1等平均賞金：172084.9554973822円\n",
      "２等平均賞金：4435.497382198952円\n"
     ]
    }
   ],
   "source": [
    "totoGoal3TotalFirstPrize = 0\n",
    "totoGoal3TotalSecondPrize = 0\n",
    "totoGoal3HeldNumber = len(DfArrTotoGoal3)\n",
    "\n",
    "for item in DfArrTotoGoal3:\n",
    "\n",
    "    firstPrize = int(item.iat[1,1].replace(\"円\", \"\").replace(\",\", \"\"))\n",
    "    secondPrize = int(item.iat[1,2].replace(\"円\", \"\").replace(\",\", \"\"))\n",
    "    \n",
    "    totoGoal3TotalFirstPrize += firstPrize\n",
    "    totoGoal3TotalSecondPrize += secondPrize\n",
    "\n",
    "totoGoal3AverageFirstPrize = totoGoal3TotalFirstPrize / totoGoal3HeldNumber\n",
    "totoGoal3AverageSecondPrize = totoGoal3TotalSecondPrize / totoGoal3HeldNumber\n",
    "\n",
    "print('1等賞金総合計：' + str(totoGoal3TotalFirstPrize) + '円')\n",
    "print('2等賞金総合計：' + str(totoGoal3TotalSecondPrize) + '円')\n",
    "print('開催回数：' + str(totoGoal3HeldNumber) + '回')\n",
    "print('1等平均賞金：' + str(totoGoal3AverageFirstPrize) + '円')\n",
    "print('２等平均賞金：' + str(totoGoal3AverageSecondPrize) + '円')"
   ]
  },
  {
   "cell_type": "markdown",
   "metadata": {},
   "source": [
    "## 各宝くじの当選確率と期待値を計算\n",
    "\n",
    "期待値の計算用に、順列(Permutation)と組み合わせ(Combination)の関数を定義する。"
   ]
  },
  {
   "cell_type": "code",
   "execution_count": 12,
   "metadata": {},
   "outputs": [],
   "source": [
    "import math\n",
    "\n",
    "def P(n, r):\n",
    "    return math.factorial(n)//math.factorial(n-r)\n",
    "\n",
    "def C(n, r):\n",
    "    return P(n, r)//math.factorial(r)"
   ]
  },
  {
   "cell_type": "markdown",
   "metadata": {},
   "source": [
    "### totoの当選確率と期待値\n",
    "\n",
    "条件\n",
    "- 1回の試合につき勝ち／引き分け／負けのいずれか1つを選択することとする。\n",
    "- 実際の宝くじでは1回の試合で勝ち／引き分け／負けの複数を指定する買い方ができるが、そのような買い方はしないものとする。\n",
    "- 運任せで買った場合の当選確率を計算する\n",
    "\n",
    "1等当選確率は13回全て当たった場合なので下記式で表される。\n",
    "\\begin{equation}\n",
    "1等当選確率 = \\left( \\frac{1}{3} \\right)^{13}\n",
    "\\end{equation}\n",
    "\n",
    "2等当選確率は12回当たって1回外れた場合と、11回当たって2回外れた場合の和なので下記式で表される。\n",
    "\\begin{equation}\n",
    "2等当選確率 = \\left( \\frac{1}{3} \\right)^{12}  \\left( \\frac{2}{3} \\right)^{1}  {}_{13} C_1 + \\left( \\frac{1}{3} \\right)^{11} \\left( \\frac{2}{3} \\right)^{2} {}_{13} C_2 \n",
    "\\end{equation}"
   ]
  },
  {
   "cell_type": "code",
   "execution_count": 13,
   "metadata": {},
   "outputs": [
    {
     "name": "stdout",
     "output_type": "stream",
     "text": [
      "1等当選確率：6.272254743863065e-07\n",
      "2等当選確率：0.0002120022103425716\n",
      "期待値：217.96203285686366円\n"
     ]
    }
   ],
   "source": [
    "p_firstPrize = math.pow(1/3, 13)\n",
    "p_secondPrize = math.pow(1/3, 12) * math.pow(2/3, 1) * C(13, 1) + math.pow(1/3, 11) * math.pow(2/3, 2) * C(13, 2) \n",
    "print('1等当選確率：' + str(p_firstPrize))\n",
    "print('2等当選確率：' + str(p_secondPrize))\n",
    "print('期待値：' + str((totoAverageFirstPrize * p_firstPrize) + (totoAverageSecondPrize * p_secondPrize)) + '円')"
   ]
  },
  {
   "cell_type": "markdown",
   "metadata": {},
   "source": [
    "### mini toto-A組の当選確率と期待値\n",
    "\n",
    "条件や確率の計算方法はtotoと同様"
   ]
  },
  {
   "cell_type": "code",
   "execution_count": 14,
   "metadata": {},
   "outputs": [
    {
     "name": "stdout",
     "output_type": "stream",
     "text": [
      "1等当選確率：0.004115226337448558\n",
      "期待値：58.605702447059606円\n"
     ]
    }
   ],
   "source": [
    "p_miniAFirstPrize = math.pow(1/3, 5)\n",
    "print('1等当選確率：' + str(p_miniAFirstPrize))\n",
    "print('期待値：' + str(totoMiniAAveragePrize * p_miniAFirstPrize) + '円')"
   ]
  },
  {
   "cell_type": "markdown",
   "metadata": {},
   "source": [
    "### mini toto-B組の当選確率と期待値\n",
    "\n",
    "条件や確率の計算方法はtotoと同様"
   ]
  },
  {
   "cell_type": "code",
   "execution_count": 15,
   "metadata": {},
   "outputs": [
    {
     "name": "stdout",
     "output_type": "stream",
     "text": [
      "1等当選確率：0.004115226337448558\n",
      "期待値：65.03018291424087円\n"
     ]
    }
   ],
   "source": [
    "p_miniBFirstPrize = math.pow(1/3, 5)\n",
    "print('1等当選確率：' + str(p_miniBFirstPrize))\n",
    "print('期待値：' + str(totoMiniBAveragePrize * p_miniBFirstPrize) + '円')"
   ]
  },
  {
   "cell_type": "markdown",
   "metadata": {},
   "source": [
    "### totoGOAL3の当選確率と期待値\n",
    "\n",
    "条件や確率の計算方法はtotoと同様"
   ]
  },
  {
   "cell_type": "code",
   "execution_count": 16,
   "metadata": {},
   "outputs": [
    {
     "name": "stdout",
     "output_type": "stream",
     "text": [
      "1等当選確率：0.000244140625\n",
      "2等当選確率：0.00439453125\n",
      "期待値：61.504860443594566円\n"
     ]
    }
   ],
   "source": [
    "p_Goal3FirstPrize = math.pow(1/4, 6)\n",
    "p_Goal3SecondPrize = math.pow(1/4, 5) * math.pow(3/4, 1) * C(6, 1) \n",
    "print('1等当選確率：' + str(p_Goal3FirstPrize))\n",
    "print('2等当選確率：' + str(p_Goal3SecondPrize))\n",
    "print('期待値：' + str((totoGoal3AverageFirstPrize * p_Goal3FirstPrize) + (totoGoal3AverageSecondPrize * p_Goal3SecondPrize)) + '円')"
   ]
  },
  {
   "cell_type": "markdown",
   "metadata": {},
   "source": [
    "# 結論\n",
    "- 期待値はtoto >>>>>> mini toto-B > totoGOAL3 > mini toto-A\n",
    "- totoの期待値が約218円となっているが、計算間違えた？"
   ]
  },
  {
   "cell_type": "code",
   "execution_count": null,
   "metadata": {},
   "outputs": [],
   "source": []
  }
 ],
 "metadata": {
  "kernelspec": {
   "display_name": "Python 3",
   "language": "python",
   "name": "python3"
  },
  "language_info": {
   "codemirror_mode": {
    "name": "ipython",
    "version": 3
   },
   "file_extension": ".py",
   "mimetype": "text/x-python",
   "name": "python",
   "nbconvert_exporter": "python",
   "pygments_lexer": "ipython3",
   "version": "3.6.5"
  }
 },
 "nbformat": 4,
 "nbformat_minor": 2
}
