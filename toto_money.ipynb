{
 "cells": [
  {
   "cell_type": "markdown",
   "metadata": {},
   "source": [
    "# totoの平均当選金額、当選確率から期待値を計算する\n"
   ]
  },
  {
   "cell_type": "markdown",
   "metadata": {},
   "source": [
    "## WEBスクレイピングによる当選金額データの取得\n",
    "* toto公式サイト（ http://sport-kuji.toto-dream.com/dci/I/IPB/IPB01.do?op=initLotResultLsttoto ）からWEBスクレイピングで当選金額データを取得する\n",
    "* 過去の結果を閲覧できるURLは http://sport-kuji.toto-dream.com/dci/I/IPB/IPB01.do?op=lnkHoldCntLotResultLsttoto&holdCntId={開催回}\n",
    "* {開催回}の部分の数字を変えれば、各回のURLにアクセスすることができる"
   ]
  },
  {
   "cell_type": "markdown",
   "metadata": {},
   "source": [
    "### pandasを使用して対象URLからテーブル要素を取得\n",
    "toto、mini toto-A組、mini toto-B組、totoGOAL3のデータだけを抽出するために、pandasで取得したデータに規則性があるかを調査する"
   ]
  },
  {
   "cell_type": "code",
   "execution_count": 1,
   "metadata": {},
   "outputs": [],
   "source": [
    "import pandas\n",
    "from IPython.core.display import display\n",
    "\n",
    "target_url_sample = 'http://sport-kuji.toto-dream.com/dci/I/IPB/IPB01.do?op=lnkHoldCntLotResultLsttoto&holdCntId=0261'\n",
    "fetched_dataframes_sample = pandas.io.html.read_html(target_url_sample)"
   ]
  },
  {
   "cell_type": "markdown",
   "metadata": {},
   "source": [
    "毎回toto、mini toto-A組、mini toto-B組、totoGOAL3の4種類の宝くじが開催されるとは限らない。\n",
    "ダイレクトに要素番号を指定すると期待通りのデータが取得できない。\n",
    "\n",
    "よって下記の処理を行う。\n",
    "\n",
    "1. 全てのdataframe要素について、行番号1、列番号0の文字列が\"当せん金\"かどうかを判定する\n",
    "1. 行番号1、列番号0が\"当せん金\"の要素は当選結果のdataframeとみなす\n",
    "1. 行番号1、列番号0が\"当せん金\"の要素番号から-2した要素番号の行番号0、列番号0を取得する\n",
    "1. 取得した文字列に、特定の文字列が含まれているか判定する\n",
    "    - 取得した文字列に\"回 toto　くじ結果\"が含まれて入れば処理1で取得した当選結果はtotoとみなす\n",
    "    - 取得した文字列に\"mini toto-A組\"が含まれて入れば処理1で取得した当選結果はmini toto-A組とみなす\n",
    "    - 取得した文字列に\"mini toto-B組\"が含まれて入れば処理1で取得した当選結果はmini toto-B組とみなす\n",
    "    - 取得した文字列に\"totoGOAL3\"が含まれて入れば処理1で取得した当選結果はtotoGOAL3とみなす"
   ]
  },
  {
   "cell_type": "code",
   "execution_count": 2,
   "metadata": {},
   "outputs": [],
   "source": [
    "def separateLotteryType(df):\n",
    "    \n",
    "    DfToto = pandas.DataFrame()\n",
    "    DfTotoMiniA = pandas.DataFrame()\n",
    "    DfTotoMiniB = pandas.DataFrame()\n",
    "    DfTotoGoal3 = pandas.DataFrame()\n",
    "    \n",
    "    for index, item in enumerate(df):\n",
    "        if len(item.isnull()) < 2:\n",
    "            continue\n",
    "\n",
    "        if item.iat[1, 0] == '当せん金':\n",
    "            if df[index - 2].iat[0,0].find('回 toto　くじ結果') != -1:\n",
    "                DfToto = item\n",
    "            elif df[index - 2].iat[0,0].find('mini toto-A組') != -1:\n",
    "                DfTotoMiniA = item\n",
    "            elif df[index - 2].iat[0,0].find('mini toto-B組') != -1:\n",
    "                DfTotoMiniB = item\n",
    "            elif df[index - 2].iat[0,0].find('totoGOAL3') != -1:\n",
    "                DfTotoGoal3 = item\n",
    "    \n",
    "    return DfToto, DfTotoMiniA, DfTotoMiniB, DfTotoGoal3"
   ]
  },
  {
   "cell_type": "markdown",
   "metadata": {},
   "source": [
    "2007年の第261回から2018年の第1046回までのデータを取得し、separateLotteryType()をつかってtoto、mini toto-A組、mini toto-B組、totoGOAL3の当選結果に分類する。\n",
    "第260回以前（2006年以前）はtotoに3等がない為、使用するデータから除外した。"
   ]
  },
  {
   "cell_type": "code",
   "execution_count": 3,
   "metadata": {},
   "outputs": [
    {
     "name": "stderr",
     "output_type": "stream",
     "text": [
      "100%|██████████| 785/785 [04:46<00:00,  3.11it/s]\n"
     ]
    }
   ],
   "source": [
    "from tqdm import tqdm\n",
    "\n",
    "# toto、mini toto-A組、mini toto-B組、totoGOAL3の当選結果を格納する配列\n",
    "DfArrToto = []\n",
    "DfArrTotoMiniA = []\n",
    "DfArrTotoMiniB = []\n",
    "DfArrTotoGoal3 = []\n",
    "\n",
    "for lotteryNo in tqdm(range(261,1046)):\n",
    "    if lotteryNo < 1000:\n",
    "        number = '0' + str(lotteryNo)\n",
    "    else:\n",
    "        number = str(lotteryNo)\n",
    "    \n",
    "    target_url = 'http://sport-kuji.toto-dream.com/dci/I/IPB/IPB01.do?op=lnkHoldCntLotResultLsttoto&holdCntId='+ str(number) \n",
    "\n",
    "    fetched_dataframes = pandas.io.html.read_html(target_url)\n",
    "    DfToto, DfTotoMiniA, DfTotoMiniB, DfTotoGoal3 = separateLotteryType(fetched_dataframes)\n",
    "    \n",
    "    if DfToto.empty == False:\n",
    "        DfArrToto.append(DfToto)\n",
    "        \n",
    "    if DfTotoMiniA.empty == False:\n",
    "        DfArrTotoMiniA.append(DfTotoMiniA)\n",
    "        \n",
    "    if DfTotoMiniB.empty == False:\n",
    "        DfArrTotoMiniB.append(DfTotoMiniB)\n",
    "\n",
    "    if DfTotoGoal3.empty == False:\n",
    "        DfArrTotoGoal3.append(DfTotoGoal3)\n",
    "    \n",
    "#   print(target_url)\n"
   ]
  },
  {
   "cell_type": "code",
   "execution_count": 4,
   "metadata": {},
   "outputs": [
    {
     "name": "stdout",
     "output_type": "stream",
     "text": [
      "[ 23.  18.  11.  10.   6.  12.  13.   7.   5.   7.   0.   5.   2.   4.   3.\n",
      "   4.   5.   7.   4.   3.   2.   3.   1.   0.   3.   4.   1.   2.   4.   2.\n",
      "   4.   1.   4.   4.   5.   4.   3.   2.   3.   3.   2.   3.   1.   2.   1.\n",
      "   2.   1.   1.   0.   0.   4.   2.   1.   2.   2.   1.   2.   0.   0.   1.\n",
      "   1.   0.   2.   1.   1.   1.   3.   2.   2.   2.   1.   0.   2.   4.   3.\n",
      "   2.   0.   1.   0.   1.   1.   0.   3.   0.   0.   0.   0.   0.   0.   5.\n",
      "   1.   0.   0.   3.   0.   0.   0.   0.   0.   0.   2.]\n"
     ]
    },
    {
     "data": {
      "image/png": "[encoded data removed]",
      "text/plain": [
       "<matplotlib.figure.Figure at 0x10b8615f8>"
      ]
     },
     "metadata": {
      "needs_background": "light"
     },
     "output_type": "display_data"
    }
   ],
   "source": [
    "# 賞金の金額を簡易的にヒストグラムで表示\n",
    "%matplotlib inline\n",
    "import matplotlib.pyplot as plt\n",
    "import numpy as np\n",
    "\n",
    "temp = []\n",
    "temp2 = np.zeros(101)\n",
    "for d in DfArrToto:\n",
    "    data = int(d.iat[1,1].replace(\"円\", \"\").replace(\",\", \"\"))\n",
    "\n",
    "    if(data == 0 or data > 100000000):\n",
    "        continue\n",
    "    \n",
    "        temp.append(data)\n",
    "    index = int(data / 1000000)\n",
    "#     print(index)\n",
    "    temp2[index] += 1\n",
    "    \n",
    "# sortedTemp = sorted(temp)\n",
    "plt.plot(temp2)\n",
    "# plt.pie(temp2)\n",
    "# tempDF = pandas.DataFrame(temp)\n",
    "print(temp2)\n",
    "\n"
   ]
  },
  {
   "cell_type": "markdown",
   "metadata": {},
   "source": [
    "## 賞金総合計、開催回数、平均償金額を計算\n",
    "### totoの賞金総合計、開催回数、平均償金額を計算"
   ]
  },
  {
   "cell_type": "code",
   "execution_count": 5,
   "metadata": {},
   "outputs": [
    {
     "name": "stdout",
     "output_type": "stream",
     "text": [
      "1等賞金総合計：13358300031円\n",
      "2等賞金総合計：434911036円\n",
      "3等賞金総合計：26243080円\n",
      "開催回数：473回\n",
      "1等平均賞金：28241649.114164904円\n",
      "２等平均賞金：919473.6490486258円\n",
      "3等平均賞金：55482.198731501056円\n"
     ]
    }
   ],
   "source": [
    "totoTotalFirstPrize = 0\n",
    "totoTotalSecondPrize = 0\n",
    "totoTotalThirdPrize = 0\n",
    "totoHeldNumber = len(DfArrToto)\n",
    "\n",
    "for item in DfArrToto:\n",
    "\n",
    "    firstPrize = int(item.iat[1,1].replace(\"円\", \"\").replace(\",\", \"\"))\n",
    "    secondPrize = int(item.iat[1,2].replace(\"円\", \"\").replace(\",\", \"\"))\n",
    "    thirdPrize = int(item.iat[1,3].replace(\"円\", \"\").replace(\",\", \"\"))\n",
    "    \n",
    "    totoTotalFirstPrize += firstPrize\n",
    "    totoTotalSecondPrize += secondPrize\n",
    "    totoTotalThirdPrize += thirdPrize\n",
    "\n",
    "totoAverageFirstPrize = totoTotalFirstPrize / totoHeldNumber\n",
    "totoAverageSecondPrize = totoTotalSecondPrize / totoHeldNumber\n",
    "totoAverageThirdPrize = totoTotalThirdPrize / totoHeldNumber\n",
    "\n",
    "print('1等賞金総合計：' + str(totoTotalFirstPrize) + '円')\n",
    "print('2等賞金総合計：' + str(totoTotalSecondPrize) + '円')\n",
    "print('3等賞金総合計：' + str(totoTotalThirdPrize) + '円')\n",
    "print('開催回数：' + str(totoHeldNumber) + '回')\n",
    "print('1等平均賞金：' + str(totoAverageFirstPrize) + '円')\n",
    "print('２等平均賞金：' + str(totoAverageSecondPrize) + '円')\n",
    "print('3等平均賞金：' + str(totoAverageThirdPrize) + '円')\n"
   ]
  },
  {
   "cell_type": "markdown",
   "metadata": {},
   "source": [
    "### mini toto-A組の賞金総合計、開催回数、平均償金額を計算"
   ]
  },
  {
   "cell_type": "code",
   "execution_count": 6,
   "metadata": {},
   "outputs": [
    {
     "name": "stdout",
     "output_type": "stream",
     "text": [
      "1等賞金総合計：9616484円\n",
      "開催回数：669回\n",
      "1等平均賞金：14374.415545590433円\n"
     ]
    }
   ],
   "source": [
    "totoMiniATotalPrize = 0\n",
    "totoMiniAHeldNumber = len(DfArrTotoMiniA)\n",
    "\n",
    "for item in DfArrTotoMiniA:\n",
    "\n",
    "    firstPrize = int(item.iat[1,1].replace(\"円\", \"\").replace(\",\", \"\"))\n",
    "    \n",
    "    totoMiniATotalPrize += firstPrize\n",
    "\n",
    "totoMiniAAveragePrize = totoMiniATotalPrize / totoMiniAHeldNumber\n",
    "\n",
    "print('1等賞金総合計：' + str(totoMiniATotalPrize) + '円')\n",
    "print('開催回数：' + str(totoMiniAHeldNumber) + '回')\n",
    "print('1等平均賞金：' + str(totoMiniAAveragePrize) + '円')"
   ]
  },
  {
   "cell_type": "markdown",
   "metadata": {},
   "source": [
    "### mini toto-B組の賞金総合計、開催回数、平均償金額を計算"
   ]
  },
  {
   "cell_type": "code",
   "execution_count": 7,
   "metadata": {},
   "outputs": [
    {
     "name": "stdout",
     "output_type": "stream",
     "text": [
      "1等賞金総合計：8648516円\n",
      "開催回数：564回\n",
      "1等平均賞金：15334.248226950354円\n"
     ]
    }
   ],
   "source": [
    "totoMiniBTotalPrize = 0\n",
    "totoMiniBHeldNumber = len(DfArrTotoMiniB)\n",
    "\n",
    "for item in DfArrTotoMiniB:\n",
    "\n",
    "    firstPrize = int(item.iat[1,1].replace(\"円\", \"\").replace(\",\", \"\"))\n",
    "    \n",
    "    totoMiniBTotalPrize += firstPrize\n",
    "    \n",
    "totoMiniBAveragePrize = totoMiniBTotalPrize / totoMiniBHeldNumber\n",
    "\n",
    "print('1等賞金総合計：' + str(totoMiniBTotalPrize) + '円')\n",
    "print('開催回数：' + str(totoMiniBHeldNumber) + '回')\n",
    "print('1等平均賞金：' + str(totoMiniBAveragePrize) + '円')"
   ]
  },
  {
   "cell_type": "markdown",
   "metadata": {},
   "source": [
    "### totoGOAL3の賞金総合計、開催回数、平均償金額を計算"
   ]
  },
  {
   "cell_type": "code",
   "execution_count": 8,
   "metadata": {},
   "outputs": [
    {
     "name": "stdout",
     "output_type": "stream",
     "text": [
      "1等賞金総合計：119398282円\n",
      "2等賞金総合計：3081560円\n",
      "開催回数：705回\n",
      "1等平均賞金：169359.26524822696円\n",
      "２等平均賞金：4371.007092198582円\n"
     ]
    }
   ],
   "source": [
    "totoGoal3TotalFirstPrize = 0\n",
    "totoGoal3TotalSecondPrize = 0\n",
    "totoGoal3HeldNumber = len(DfArrTotoGoal3)\n",
    "\n",
    "for item in DfArrTotoGoal3:\n",
    "\n",
    "    firstPrize = int(item.iat[1,1].replace(\"円\", \"\").replace(\",\", \"\"))\n",
    "    secondPrize = int(item.iat[1,2].replace(\"円\", \"\").replace(\",\", \"\"))\n",
    "    \n",
    "    totoGoal3TotalFirstPrize += firstPrize\n",
    "    totoGoal3TotalSecondPrize += secondPrize\n",
    "\n",
    "totoGoal3AverageFirstPrize = totoGoal3TotalFirstPrize / totoGoal3HeldNumber\n",
    "totoGoal3AverageSecondPrize = totoGoal3TotalSecondPrize / totoGoal3HeldNumber\n",
    "\n",
    "print('1等賞金総合計：' + str(totoGoal3TotalFirstPrize) + '円')\n",
    "print('2等賞金総合計：' + str(totoGoal3TotalSecondPrize) + '円')\n",
    "print('開催回数：' + str(totoGoal3HeldNumber) + '回')\n",
    "print('1等平均賞金：' + str(totoGoal3AverageFirstPrize) + '円')\n",
    "print('２等平均賞金：' + str(totoGoal3AverageSecondPrize) + '円')"
   ]
  },
  {
   "cell_type": "markdown",
   "metadata": {},
   "source": [
    "## 各宝くじの当選確率と期待値を計算\n",
    "\n",
    "期待値の計算用に、順列(Permutation)と組み合わせ(Combination)の関数を定義する。"
   ]
  },
  {
   "cell_type": "code",
   "execution_count": 9,
   "metadata": {},
   "outputs": [],
   "source": [
    "import math\n",
    "\n",
    "def P(n, r):\n",
    "    return math.factorial(n)//math.factorial(n-r)\n",
    "\n",
    "def C(n, r):\n",
    "    return P(n, r)//math.factorial(r)"
   ]
  },
  {
   "cell_type": "markdown",
   "metadata": {},
   "source": [
    "### totoの当選確率と期待値\n",
    "\n",
    "条件\n",
    "- 1回の試合につき勝ち／引き分け／負けのいずれか1つを選択することとする。\n",
    "- 実際の宝くじでは1回の試合で勝ち／引き分け／負けの複数を指定する買い方ができるが、そのような買い方はしないものとする。\n",
    "- 運任せで買った場合の当選確率を計算する\n",
    "\n",
    "1等当選確率$P_1$は13回全て当たった場合なので下記式で表される。\n",
    "\\begin{equation}\n",
    "P_1 = \\left( \\frac{1}{3} \\right)^{13}\n",
    "\\end{equation}\n",
    "\n",
    "2等当選確率$P_2$は12回当たって1回外れた場合なので下記式で表される。\n",
    "\\begin{equation}\n",
    "P_2 = \\left( \\frac{1}{3} \\right)^{12}  \\left( \\frac{2}{3} \\right)^{1}  {}_{13} C_1\n",
    "\\end{equation}\n",
    "\n",
    "3等当選確率$P_3$は11回当たって2回外れた場合なので下記式で表される。\n",
    "\\begin{equation}\n",
    "P_3 = \\left( \\frac{1}{3} \\right)^{11} \\left( \\frac{2}{3} \\right)^{2} {}_{13} C_2 \n",
    "\\end{equation}"
   ]
  },
  {
   "cell_type": "code",
   "execution_count": 10,
   "metadata": {},
   "outputs": [
    {
     "name": "stdout",
     "output_type": "stream",
     "text": [
      "1等当選確率：6.272254743863065e-07\n",
      "2等当選確率：1.630786233404397e-05\n",
      "3等当選確率：0.00019569434800852762\n",
      "期待値：43.5660841583904円\n"
     ]
    }
   ],
   "source": [
    "p_firstPrize = math.pow(1/3, 13)\n",
    "p_secondPrize = math.pow(1/3, 12) * math.pow(2/3, 1) * C(13, 1) \n",
    "p_thirdPrize = math.pow(1/3, 11) * math.pow(2/3, 2) * C(13, 2) \n",
    "print('1等当選確率：' + str(p_firstPrize))\n",
    "print('2等当選確率：' + str(p_secondPrize))\n",
    "print('3等当選確率：' + str(p_thirdPrize))\n",
    "print('期待値：' + str((totoAverageFirstPrize * p_firstPrize) + (totoAverageSecondPrize * p_secondPrize) + (totoAverageThirdPrize * p_thirdPrize)) + '円')"
   ]
  },
  {
   "cell_type": "code",
   "execution_count": 11,
   "metadata": {
    "scrolled": false
   },
   "outputs": [
    {
     "name": "stdout",
     "output_type": "stream",
     "text": [
      "1等当選確率：0.0013060694015999993\n",
      "2等当選確率：0.011319268147199996\n",
      "3等当選確率：0.04527707258879999\n",
      "期待値：49805.394085952765円\n"
     ]
    }
   ],
   "source": [
    "# 予測が当たる確率がpだった場合の期待値\n",
    "p = 0.6\n",
    "notP = 1 - p\n",
    "\n",
    "p_firstPrize_mog = math.pow(p, 13)\n",
    "p_secondPrize_mog = math.pow(p, 12) * math.pow(notP, 1) * C(13, 1) \n",
    "p_thirdPrize_mog = math.pow(p, 11) * math.pow(notP, 2) * C(13, 2) \n",
    "print('1等当選確率：' + str(p_firstPrize_mog))\n",
    "print('2等当選確率：' + str(p_secondPrize_mog))\n",
    "print('3等当選確率：' + str(p_thirdPrize_mog))\n",
    "print('期待値：' + str((totoAverageFirstPrize * p_firstPrize_mog) + (totoAverageSecondPrize * p_secondPrize_mog) + (totoAverageThirdPrize * p_thirdPrize_mog)) + '円')"
   ]
  },
  {
   "cell_type": "markdown",
   "metadata": {},
   "source": [
    "### mini toto-A組の当選確率と期待値\n",
    "\n",
    "条件や確率の計算方法はtotoと同様"
   ]
  },
  {
   "cell_type": "code",
   "execution_count": 12,
   "metadata": {},
   "outputs": [
    {
     "name": "stdout",
     "output_type": "stream",
     "text": [
      "1等当選確率：0.004115226337448558\n",
      "期待値：59.15397343864374円\n"
     ]
    }
   ],
   "source": [
    "p_miniAFirstPrize = math.pow(1/3, 5)\n",
    "print('1等当選確率：' + str(p_miniAFirstPrize))\n",
    "print('期待値：' + str(totoMiniAAveragePrize * p_miniAFirstPrize) + '円')"
   ]
  },
  {
   "cell_type": "markdown",
   "metadata": {},
   "source": [
    "### mini toto-B組の当選確率と期待値\n",
    "\n",
    "条件や確率の計算方法はtotoと同様"
   ]
  },
  {
   "cell_type": "code",
   "execution_count": 13,
   "metadata": {},
   "outputs": [
    {
     "name": "stdout",
     "output_type": "stream",
     "text": [
      "1等当選確率：0.004115226337448558\n",
      "期待値：63.10390216851996円\n"
     ]
    }
   ],
   "source": [
    "p_miniBFirstPrize = math.pow(1/3, 5)\n",
    "print('1等当選確率：' + str(p_miniBFirstPrize))\n",
    "print('期待値：' + str(totoMiniBAveragePrize * p_miniBFirstPrize) + '円')"
   ]
  },
  {
   "cell_type": "code",
   "execution_count": 14,
   "metadata": {},
   "outputs": [
    {
     "name": "stdout",
     "output_type": "stream",
     "text": [
      "1等当選確率：0.07775999999999998\n",
      "期待値：1192.3911421276594円\n"
     ]
    }
   ],
   "source": [
    "p_miniBFirstPrize_mog = math.pow(0.6, 5)\n",
    "print('1等当選確率：' + str(p_miniBFirstPrize_mog))\n",
    "print('期待値：' + str(totoMiniBAveragePrize * p_miniBFirstPrize_mog) + '円')"
   ]
  },
  {
   "cell_type": "markdown",
   "metadata": {},
   "source": [
    "### totoGOAL3の当選確率と期待値\n",
    "\n",
    "条件や確率の計算方法はtotoと同様"
   ]
  },
  {
   "cell_type": "code",
   "execution_count": 15,
   "metadata": {},
   "outputs": [
    {
     "name": "stdout",
     "output_type": "stream",
     "text": [
      "1等当選確率：0.000244140625\n",
      "2等当選確率：0.00439453125\n",
      "期待値：60.55600412788121円\n"
     ]
    }
   ],
   "source": [
    "p_Goal3FirstPrize = math.pow(1/4, 6)\n",
    "p_Goal3SecondPrize = math.pow(1/4, 5) * math.pow(3/4, 1) * C(6, 1) \n",
    "print('1等当選確率：' + str(p_Goal3FirstPrize))\n",
    "print('2等当選確率：' + str(p_Goal3SecondPrize))\n",
    "print('期待値：' + str((totoGoal3AverageFirstPrize * p_Goal3FirstPrize) + (totoGoal3AverageSecondPrize * p_Goal3SecondPrize)) + '円')"
   ]
  }
 ],
 "metadata": {
  "kernelspec": {
   "display_name": "Python 3",
   "language": "python",
   "name": "python3"
  },
  "language_info": {
   "codemirror_mode": {
    "name": "ipython",
    "version": 3
   },
   "file_extension": ".py",
   "mimetype": "text/x-python",
   "name": "python",
   "nbconvert_exporter": "python",
   "pygments_lexer": "ipython3",
   "version": "3.6.5"
  }
 },
 "nbformat": 4,
 "nbformat_minor": 2
}
